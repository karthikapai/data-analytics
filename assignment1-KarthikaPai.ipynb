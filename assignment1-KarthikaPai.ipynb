{
 "cells": [
  {
   "cell_type": "markdown",
   "metadata": {},
   "source": [
    "# Karthika Pai\n",
    "# Homework 1\n",
    "\n",
    "## Part 1: The Doomsday Algorithm\n",
    "\n",
    "The Doomsday algorithm, devised by mathematician J. H. Conway, computes the day of the week any given date fell on. The algorithm is designed to be simple enough to memorize and use for mental calculation.\n",
    "\n",
    "__Example.__ With the algorithm, we can compute that July 4, 1776 (the day the United States declared independence from Great Britain) was a Thursday.\n",
    "\n",
    "The algorithm is based on the fact that for any year, several dates always fall on the same day of the week, called the <em style=\"color:#F00\">doomsday</em> for the year. These dates include 4/4, 6/6, 8/8, 10/10, and 12/12.\n",
    "\n",
    "__Example.__ The doomsday for 2016 is Monday, so in 2016 the dates above all fell on Mondays. The doomsday for 2017 is Tuesday, so in 2017 the dates above will all fall on Tuesdays.\n",
    "\n",
    "The doomsday algorithm has three major steps:\n",
    "\n",
    "1. Compute the anchor day for the target century.\n",
    "2. Compute the doomsday for the target year based on the anchor day.\n",
    "3. Determine the day of week for the target date by counting the number of days to the nearest doomsday.\n",
    "\n",
    "Each step is explained in detail below."
   ]
  },
  {
   "cell_type": "markdown",
   "metadata": {},
   "source": [
    "### The Anchor Day\n",
    "\n",
    "The doomsday for the first year in a century is called the <em style=\"color:#F00\">anchor day</em> for that century. The anchor day is needed to compute the doomsday for any other year in that century. The anchor day for a century $c$ can be computed with the formula:\n",
    "$$\n",
    "a = \\bigl( 5 (c \\bmod 4) + 2 \\bigr) \\bmod 7\n",
    "$$\n",
    "The result $a$ corresponds to a day of the week, starting with $0$ for Sunday and ending with $6$ for Saturday.\n",
    "\n",
    "__Note.__ The modulo operation $(x \\bmod y)$ finds the remainder after dividing $x$ by $y$. For instance, $12 \\bmod 3 = 0$ since the remainder after dividing $12$ by $3$ is $0$. Similarly, $11 \\bmod 7 = 4$, since the remainder after dividing $11$ by $7$ is $4$.\n",
    "\n",
    "__Example.__ Suppose the target year is 1954, so the century is $c = 19$. Plugging this into the formula gives\n",
    "$$a = \\bigl( 5 (19 \\bmod 4) + 2 \\bigr) \\bmod 7 = \\bigl( 5(3) + 2 \\bigr) \\bmod 7 = 3.$$\n",
    "In other words, the anchor day for 1900-1999 is Wednesday, which is also the doomsday for 1900.\n",
    "\n",
    "__Exercise 1.1.__ Write a function that accepts a year as input and computes the anchor day for that year's century. The modulo operator `%` and functions in the `math` module may be useful. Document your function with a docstring and test your function for a few different years.  Do this in a new cell below this one."
   ]
  },
  {
   "cell_type": "code",
   "execution_count": 1,
   "metadata": {
    "collapsed": false
   },
   "outputs": [
    {
     "data": {
      "text/plain": [
       "3"
      ]
     },
     "execution_count": 1,
     "metadata": {},
     "output_type": "execute_result"
    }
   ],
   "source": [
    "def compute_anchor(year):\n",
    "    '''\n",
    "    This function calculates the anchor day for a given year.\n",
    "    Input: 4 digit year\n",
    "    Output: Integers from range 0 to 6\n",
    "    '''\n",
    "    year_string = str(year)[:2] # cast to string to get first two digits\n",
    "    year_int = int(year_string) # cast to int again\n",
    "    return (5 * (year_int % 4) + 2) % 7\n",
    "\n",
    "compute_anchor(1944) #3\n",
    "compute_anchor(1899) #5\n",
    "compute_anchor(1776) #0\n",
    "compute_anchor(1954) #2 - Tuesday\n",
    "    \n"
   ]
  },
  {
   "cell_type": "markdown",
   "metadata": {},
   "source": [
    "### The Doomsday\n",
    "\n",
    "Once the anchor day is known, let $y$ be the last two digits of the target year. Then the doomsday for the target year can be computed with the formula:\n",
    "$$d = \\left(y + \\left\\lfloor\\frac{y}{4}\\right\\rfloor + a\\right) \\bmod 7$$\n",
    "The result $d$ corresponds to a day of the week.\n",
    "\n",
    "__Note.__ The floor operation $\\lfloor x \\rfloor$ rounds $x$ down to the nearest integer. For instance, $\\lfloor 3.1 \\rfloor = 3$ and $\\lfloor 3.8 \\rfloor = 3$.\n",
    "\n",
    "__Example.__ Again suppose the target year is 1954. Then the anchor day is $a = 3$, and $y = 54$, so the formula gives\n",
    "$$\n",
    "d = \\left(54 + \\left\\lfloor\\frac{54}{4}\\right\\rfloor + 3\\right) \\bmod 7 = (54 + 13 + 3) \\bmod 7 = 0.\n",
    "$$\n",
    "Thus the doomsday for 1954 is Sunday.\n",
    "\n",
    "__Exercise 1.2.__ Write a function that accepts a year as input and computes the doomsday for that year. Your function may need to call the function you wrote in exercise 1.1. Make sure to document and test your function."
   ]
  },
  {
   "cell_type": "code",
   "execution_count": 2,
   "metadata": {
    "collapsed": false
   },
   "outputs": [
    {
     "data": {
      "text/plain": [
       "5"
      ]
     },
     "execution_count": 2,
     "metadata": {},
     "output_type": "execute_result"
    }
   ],
   "source": [
    "import math\n",
    "def compute_doomsday(year):\n",
    "    '''\n",
    "    This function calculates the doomsday for a given year.\n",
    "    Input: 4 digit year\n",
    "    Output: Integers from range 0 to 6\n",
    "    '''\n",
    "    last_two = year % 100\n",
    "    anchor_day = compute_anchor(year)\n",
    "    return int((last_two + math.floor(last_two / 4) + anchor_day) % 7)\n",
    "    \n",
    "compute_doomsday(1954)\n",
    "compute_doomsday(1852)\n",
    "compute_doomsday(1776)\n",
    "compute_doomsday(2008) # 2 - Tuesday"
   ]
  },
  {
   "cell_type": "markdown",
   "metadata": {},
   "source": [
    "### The Day of Week\n",
    "\n",
    "The final step in the Doomsday algorithm is to count the number of days between the target date and a nearby doomsday, modulo 7. This gives the day of the week.\n",
    "\n",
    "Every month has at least one doomsday:\n",
    "* (regular years) 1/10, 2/28\n",
    "* (leap years) 1/11, 2/29\n",
    "* 3/21, 4/4, 5/9, 6/6, 7/11, 8/8, 9/5, 10/10, 11/7, 12/12\n",
    "\n",
    "__Example.__ Suppose we want to find the day of the week for 7/21/1954. The doomsday for 1954 is Sunday, and a nearby doomsday is 7/11. There are 10 days in July between 7/11 and 7/21. Since $10 \\bmod 7 = 3$, the date 7/21/1954 falls 3 days after a Sunday, on a Wednesday.\n",
    "\n",
    "__Exercise 1.3.__ Write a function to determine the day of the week for a given day, month, and year. Be careful of leap years! Your function should return a string such as \"Thursday\" rather than a number. As usual, document and test your code."
   ]
  },
  {
   "cell_type": "code",
   "execution_count": 3,
   "metadata": {
    "collapsed": false
   },
   "outputs": [
    {
     "data": {
      "text/plain": [
       "'Friday'"
      ]
     },
     "execution_count": 3,
     "metadata": {},
     "output_type": "execute_result"
    }
   ],
   "source": [
    "import datetime\n",
    "\n",
    "def returnday(number):\n",
    "    '''\n",
    "    This function takes in a number and returns \n",
    "    the day of the week, corresponding to the number.\n",
    "    Input: integer number ranging from 0 to 6\n",
    "    Output: String \n",
    "    '''\n",
    "    weekdays = ['Sunday', 'Monday', 'Tuesday', 'Wednesday', 'Thursday', 'Friday', 'Saturday']\n",
    "    return weekdays[number]\n",
    "\n",
    "def nearest_date(items, check):\n",
    "    '''\n",
    "    This function takes in a datetime called check and an array of datetime (items).\n",
    "    It compares datetime with every element in the items array and returns the element\n",
    "    with the minimum difference.\n",
    "    Input: array of datetimes, datetime\n",
    "    Output: datetime\n",
    "    '''\n",
    "    return min(items, key=lambda x: abs(x - check))\n",
    "\n",
    "def compute_day(year, month, day):\n",
    "    '''\n",
    "    This function takes in year, month and day and computes the\n",
    "    day of week it lands on. \n",
    "    Input: year, month and day. day must be between 1 and 28 or 1 and 29. month between 1 and 13\n",
    "    Output: String \n",
    "    '''\n",
    "    if (year%4==0 and (year%100!=0 or year%400==0)): # check if leap year\n",
    "        leap_years = [datetime.datetime(year, 1, 11), datetime.datetime(year, 2, 29), datetime.datetime(year, 3, 21), \n",
    "                datetime.datetime(year, 4, 4), datetime.datetime(year, 5, 9), datetime.datetime(year, 6, 6), \n",
    "                datetime.datetime(year, 7, 11), datetime.datetime(year, 8, 8), datetime.datetime(year, 9, 5), \n",
    "                datetime.datetime(year, 10, 10), datetime.datetime(year, 11, 7), datetime.datetime(year, 12, 12)]\n",
    "        closest_date = nearest_date(leap_years, datetime.datetime(year, month, day)) #calculate nearest doomsday\n",
    "    else:\n",
    "        reg_years = [datetime.datetime(year, 1, 10), datetime.datetime(year, 2, 28), datetime.datetime(year, 3, 21), \n",
    "                datetime.datetime(year, 4, 4), datetime.datetime(year, 5, 9), datetime.datetime(year, 6, 6), \n",
    "                datetime.datetime(year, 7, 11), datetime.datetime(year, 8, 8), datetime.datetime(year, 9, 5), \n",
    "                datetime.datetime(year, 10, 10), datetime.datetime(year, 11, 7), datetime.datetime(year, 12, 12)]\n",
    "        closest_date = nearest_date(reg_years, datetime.datetime(year, month, day))\n",
    "        \n",
    "    difference = abs(closest_date - datetime.datetime(year, month, day)).days\n",
    "    doomsday_calc = difference % 7\n",
    "    total = (doomsday_calc + compute_doomsday(year)) % 7 # takes doomsday calc and maps it to array of days\n",
    "    return returnday(total)\n",
    "    \n",
    "compute_day(1954, 7, 21) # Wednesday\n",
    "compute_day(1994, 10, 21) # Friday  "
   ]
  },
  {
   "cell_type": "markdown",
   "metadata": {},
   "source": [
    "__Exercise 1.4.__ How many times did Friday the 13th occur in the years 1900-1999? Does this number seem to be similar to other centuries?"
   ]
  },
  {
   "cell_type": "code",
   "execution_count": 4,
   "metadata": {
    "collapsed": false
   },
   "outputs": [
    {
     "name": "stdout",
     "output_type": "stream",
     "text": [
      "172\n",
      "172\n",
      "173\n"
     ]
    }
   ],
   "source": [
    "def count_unlucky(start, end):\n",
    "    '''\n",
    "    This function takes in start and end range of a \n",
    "    century, iterates through the years and months and counts which\n",
    "    13th day of each month falls on a Friday.\n",
    "    Input: start date, end date\n",
    "    Output: number of times that fri 13th occurs\n",
    "    '''\n",
    "    number = 0\n",
    "    for years in range(start, end):\n",
    "        for month in range(1, 13):\n",
    "            if (compute_day(years, month, 13) == 'Friday'):\n",
    "                number = number + 1\n",
    "    print number\n",
    "    \n",
    "count_unlucky(1900, 2000)\n",
    "count_unlucky(1800, 1900)\n",
    "count_unlucky(1700, 1800)\n",
    "    "
   ]
  },
  {
   "cell_type": "markdown",
   "metadata": {},
   "source": [
    "<b>Friday the 13th happened 172 times in the 19th century. This is similar to other centuries. </b>"
   ]
  },
  {
   "cell_type": "markdown",
   "metadata": {},
   "source": [
    "__Exercise 1.5.__ How many times did Friday the 13th occur between the year 2000 and today?"
   ]
  },
  {
   "cell_type": "code",
   "execution_count": 5,
   "metadata": {
    "collapsed": false
   },
   "outputs": [
    {
     "name": "stdout",
     "output_type": "stream",
     "text": [
      "29\n"
     ]
    }
   ],
   "source": [
    "count_unlucky(2000, 2017)"
   ]
  },
  {
   "cell_type": "markdown",
   "metadata": {},
   "source": [
    "<b> It has happened 29 times. </b>"
   ]
  },
  {
   "cell_type": "markdown",
   "metadata": {},
   "source": [
    "## Part 2: 1978 Birthdays\n",
    "\n",
    "__Exercise 2.1.__ The file `birthdays.txt` contains the number of births in the United States for each day in 1978. Inspect the file to determine the format. Note that columns are separated by the tab character, which can be entered in Python as `\\t`. Write a function that uses iterators and list comprehensions with the string methods `split()` and `strip()` to  convert each line of data to the list format\n",
    "\n",
    "```Python\n",
    "[month, day, year, count]\n",
    "```\n",
    "The elements of this list should be integers, not strings. The function `read_birthdays` provided below will help you load the file."
   ]
  },
  {
   "cell_type": "code",
   "execution_count": 6,
   "metadata": {
    "collapsed": true
   },
   "outputs": [],
   "source": [
    "def read_birthdays(file_path):\n",
    "    \"\"\"Read the contents of the birthdays file into a string.\n",
    "    \n",
    "    Arguments:\n",
    "        file_path (string): The path to the birthdays file.\n",
    "        \n",
    "    Returns:\n",
    "        string: The contents of the birthdays file.\n",
    "    \"\"\"\n",
    "    with open(file_path) as file:\n",
    "        return file.read()\n",
    "    file.close()"
   ]
  },
  {
   "cell_type": "markdown",
   "metadata": {},
   "source": [
    "__Exercise 2.2.__ Which month had the most births in 1978? Which day of the week had the most births? Which day of the week had the fewest? What conclusions can you draw? You may find the `Counter` class in the `collections` module useful."
   ]
  },
  {
   "cell_type": "code",
   "execution_count": 11,
   "metadata": {
    "collapsed": false
   },
   "outputs": [
    {
     "name": "stdout",
     "output_type": "stream",
     "text": [
      "month list is [270695, 249875, 276584, 254577, 270812, 270756, 294701, 302795, 293891, 288955, 274671, 284927]\n",
      "week list is [519416, 413210, 399220, 426600, 504858, 554606, 515329]\n"
     ]
    }
   ],
   "source": [
    "def counting():\n",
    "    weekdays = ['Sunday', 'Monday', 'Tuesday', 'Wednesday', 'Thursday', 'Friday', 'Saturday']\n",
    "    full_list = []\n",
    "    month_list = []\n",
    "    week_list = [0,0,0,0,0,0,0]\n",
    "    count = 0\n",
    "    file_content = (read_birthdays('./birthdays.txt')).split('\\n')\n",
    "    for lines in file_content[6:371]:\n",
    "        oneline = lines.split()\n",
    "        month, day, year = oneline[0].split('/')\n",
    "        total = oneline[1]\n",
    "        newlist = [int(month), int(day), int(year), int(total)] \n",
    "        full_list.append(newlist) # CREATE FULL LIST \n",
    "    for i in xrange(1,13):\n",
    "        count = 0\n",
    "        count = sum(k[3] for k in full_list if i == k[0]) # CREATE MONTH LIST\n",
    "        month_list.append(count)\n",
    "    print \"month list is\", month_list # August has the most births\n",
    "    for k in full_list:\n",
    "        returnedday = compute_day(k[2], k[0], k[1]) # call compute day function to determine which baby was born\n",
    "        week_list[weekdays.index(returnedday)] = week_list[weekdays.index(returnedday)] + k[3] # aggregate by day of week\n",
    "    print \"week list is\", week_list # Friday has the most births, Tuesday had the least births \n",
    "    \n",
    "counting()"
   ]
  },
  {
   "cell_type": "markdown",
   "metadata": {},
   "source": [
    "<b> According to results above, August has most births. In the year 1978, Friday has the most births, while Tuesday has the least births. We can conclude that most births occured in the summer (July - August) than in the winter months (Jan - Feb). \n",
    "\n",
    "We might be able to conclude that greater babies were born on Friday b/c doctors were willing to induce labor faster so they can go home on the weekend, but that is just speculation. </b>"
   ]
  },
  {
   "cell_type": "markdown",
   "metadata": {},
   "source": [
    "__Exercise 2.3.__ What would be an effective way to present the information in exercise 2.2? You don't need to write any code for this exercise, just discuss what you would do."
   ]
  },
  {
   "cell_type": "markdown",
   "metadata": {},
   "source": [
    "<b> Rather than writing code to compute the categorial data, I would use Pandas/Tableau/SQL to write a simple group by function that can easily calculate the number of births per month or per week. Regarding visualization, the best way to see this would be in a histogram or frequency chart. Pie charts also work fine. </b>"
   ]
  }
 ],
 "metadata": {
  "anaconda-cloud": {},
  "kernelspec": {
   "display_name": "Python [default]",
   "language": "python",
   "name": "python2"
  },
  "language_info": {
   "codemirror_mode": {
    "name": "ipython",
    "version": 2
   },
   "file_extension": ".py",
   "mimetype": "text/x-python",
   "name": "python",
   "nbconvert_exporter": "python",
   "pygments_lexer": "ipython2",
   "version": "2.7.12"
  }
 },
 "nbformat": 4,
 "nbformat_minor": 2
}
